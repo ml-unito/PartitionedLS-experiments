{
 "cells": [
  {
   "cell_type": "code",
   "execution_count": 2,
   "metadata": {
    "collapsed": false
   },
   "outputs": [
    {
     "name": "stderr",
     "output_type": "stream",
     "text": [
      "WARNING: Method definition norm(Convex.AbstractExpr, Symbol) in module Convex at /Users/esposito/.julia/v0.5/Convex/src/atoms/second_order_cone/norm.jl:45 overwritten at deprecated.jl:49.\n"
     ]
    },
    {
     "data": {
      "text/html": [
       "<table class=\"data-frame\"><tr><th></th><th>B1</th><th>B2</th><th>B3</th><th>B4</th></tr><tr><th>1</th><td>1</td><td>0</td><td>0</td><td>0</td></tr><tr><th>2</th><td>1</td><td>0</td><td>0</td><td>0</td></tr><tr><th>3</th><td>1</td><td>0</td><td>0</td><td>0</td></tr><tr><th>4</th><td>1</td><td>0</td><td>0</td><td>0</td></tr><tr><th>5</th><td>1</td><td>0</td><td>0</td><td>0</td></tr><tr><th>6</th><td>1</td><td>0</td><td>0</td><td>0</td></tr><tr><th>7</th><td>1</td><td>0</td><td>0</td><td>0</td></tr><tr><th>8</th><td>1</td><td>0</td><td>0</td><td>0</td></tr><tr><th>9</th><td>1</td><td>0</td><td>0</td><td>0</td></tr><tr><th>10</th><td>1</td><td>0</td><td>0</td><td>0</td></tr><tr><th>11</th><td>1</td><td>0</td><td>0</td><td>0</td></tr><tr><th>12</th><td>1</td><td>0</td><td>0</td><td>0</td></tr><tr><th>13</th><td>1</td><td>0</td><td>0</td><td>0</td></tr><tr><th>14</th><td>1</td><td>0</td><td>0</td><td>0</td></tr><tr><th>15</th><td>1</td><td>0</td><td>0</td><td>0</td></tr><tr><th>16</th><td>1</td><td>0</td><td>0</td><td>0</td></tr><tr><th>17</th><td>1</td><td>0</td><td>0</td><td>0</td></tr><tr><th>18</th><td>1</td><td>0</td><td>0</td><td>0</td></tr><tr><th>19</th><td>1</td><td>0</td><td>0</td><td>0</td></tr><tr><th>20</th><td>1</td><td>0</td><td>0</td><td>0</td></tr><tr><th>21</th><td>1</td><td>0</td><td>0</td><td>0</td></tr><tr><th>22</th><td>1</td><td>0</td><td>0</td><td>0</td></tr><tr><th>23</th><td>1</td><td>0</td><td>0</td><td>0</td></tr><tr><th>24</th><td>0</td><td>1</td><td>0</td><td>0</td></tr><tr><th>25</th><td>0</td><td>1</td><td>0</td><td>0</td></tr><tr><th>26</th><td>0</td><td>1</td><td>0</td><td>0</td></tr><tr><th>27</th><td>0</td><td>1</td><td>0</td><td>0</td></tr><tr><th>28</th><td>0</td><td>1</td><td>0</td><td>0</td></tr><tr><th>29</th><td>0</td><td>1</td><td>0</td><td>0</td></tr><tr><th>30</th><td>0</td><td>1</td><td>0</td><td>0</td></tr><tr><th>&vellip;</th><td>&vellip;</td><td>&vellip;</td><td>&vellip;</td><td>&vellip;</td></tr></table>"
      ],
      "text/plain": [
       "82×4 DataFrames.DataFrame\n",
       "│ Row │ B1 │ B2 │ B3 │ B4 │\n",
       "├─────┼────┼────┼────┼────┤\n",
       "│ 1   │ 1  │ 0  │ 0  │ 0  │\n",
       "│ 2   │ 1  │ 0  │ 0  │ 0  │\n",
       "│ 3   │ 1  │ 0  │ 0  │ 0  │\n",
       "│ 4   │ 1  │ 0  │ 0  │ 0  │\n",
       "│ 5   │ 1  │ 0  │ 0  │ 0  │\n",
       "│ 6   │ 1  │ 0  │ 0  │ 0  │\n",
       "│ 7   │ 1  │ 0  │ 0  │ 0  │\n",
       "│ 8   │ 1  │ 0  │ 0  │ 0  │\n",
       "│ 9   │ 1  │ 0  │ 0  │ 0  │\n",
       "│ 10  │ 1  │ 0  │ 0  │ 0  │\n",
       "│ 11  │ 1  │ 0  │ 0  │ 0  │\n",
       "⋮\n",
       "│ 71  │ 0  │ 0  │ 0  │ 1  │\n",
       "│ 72  │ 0  │ 0  │ 0  │ 1  │\n",
       "│ 73  │ 0  │ 0  │ 0  │ 1  │\n",
       "│ 74  │ 0  │ 0  │ 0  │ 1  │\n",
       "│ 75  │ 0  │ 0  │ 0  │ 1  │\n",
       "│ 76  │ 0  │ 0  │ 0  │ 1  │\n",
       "│ 77  │ 0  │ 0  │ 0  │ 1  │\n",
       "│ 78  │ 0  │ 0  │ 0  │ 1  │\n",
       "│ 79  │ 0  │ 0  │ 0  │ 1  │\n",
       "│ 80  │ 0  │ 0  │ 0  │ 1  │\n",
       "│ 81  │ 0  │ 0  │ 0  │ 1  │\n",
       "│ 82  │ 0  │ 0  │ 0  │ 1  │"
      ]
     },
     "execution_count": 2,
     "metadata": {},
     "output_type": "execute_result"
    }
   ],
   "source": [
    "using Convex\n",
    "using DataFrames\n",
    "\n",
    "data = readtable(\"LogP_VSPlus_Export.csv\")\n",
    "blocks = readtable(\"blocks.csv\")"
   ]
  },
  {
   "cell_type": "code",
   "execution_count": 3,
   "metadata": {
    "collapsed": false
   },
   "outputs": [
    {
     "data": {
      "text/plain": [
       "82×4 Array{Int64,2}:\n",
       " 1  0  0  0\n",
       " 1  0  0  0\n",
       " 1  0  0  0\n",
       " 1  0  0  0\n",
       " 1  0  0  0\n",
       " 1  0  0  0\n",
       " 1  0  0  0\n",
       " 1  0  0  0\n",
       " 1  0  0  0\n",
       " 1  0  0  0\n",
       " 1  0  0  0\n",
       " 1  0  0  0\n",
       " 1  0  0  0\n",
       " ⋮         \n",
       " 0  0  0  1\n",
       " 0  0  0  1\n",
       " 0  0  0  1\n",
       " 0  0  0  1\n",
       " 0  0  0  1\n",
       " 0  0  0  1\n",
       " 0  0  0  1\n",
       " 0  0  0  1\n",
       " 0  0  0  1\n",
       " 0  0  0  1\n",
       " 0  0  0  1\n",
       " 0  0  0  1"
      ]
     },
     "execution_count": 3,
     "metadata": {},
     "output_type": "execute_result"
    }
   ],
   "source": [
    "X = convert(Array,data[:, 2:83])\n",
    "y = convert(Array, data[:, :Y_Log_P_])\n",
    "P = convert(Array, blocks)   # should be a matrix of M x K bits, P[m,k] = 1 if feature m is in P[k], 0 otherwise"
   ]
  },
  {
   "cell_type": "code",
   "execution_count": 4,
   "metadata": {
    "collapsed": false
   },
   "outputs": [
    {
     "data": {
      "text/plain": [
       "4"
      ]
     },
     "execution_count": 4,
     "metadata": {},
     "output_type": "execute_result"
    }
   ],
   "source": [
    "M = size(X,2)\n",
    "K = size(blocks,2)\n"
   ]
  },
  {
   "cell_type": "code",
   "execution_count": 5,
   "metadata": {
    "collapsed": false
   },
   "outputs": [
    {
     "name": "stderr",
     "output_type": "stream",
     "text": [
      "WARNING: imported binding for beta overwritten in module Main\n"
     ]
    },
    {
     "data": {
      "text/plain": [
       "Variable of\n",
       "size: (4, 1)\n",
       "sign: Convex.NoSign()\n",
       "vexity: Convex.AffineVexity()"
      ]
     },
     "execution_count": 5,
     "metadata": {},
     "output_type": "execute_result"
    }
   ],
   "source": [
    "alpha = Variable(M, Positive())\n",
    "beta = Variable(K)\n"
   ]
  },
  {
   "cell_type": "code",
   "execution_count": 6,
   "metadata": {
    "collapsed": false
   },
   "outputs": [
    {
     "data": {
      "text/plain": [
       "4-element Array{Float64,1}:\n",
       " 0.518576 \n",
       " 0.755176 \n",
       " 0.0637152\n",
       " 0.395889 "
      ]
     },
     "execution_count": 6,
     "metadata": {},
     "output_type": "execute_result"
    }
   ],
   "source": [
    "beta.value = rand(K)\n",
    "beta.value = beta.value / norm(beta.value)\n"
   ]
  },
  {
   "cell_type": "code",
   "execution_count": 10,
   "metadata": {
    "collapsed": false
   },
   "outputs": [
    {
     "data": {
      "text/plain": [
       "AbstractExpr with\n",
       "head: .*\n",
       "size: (82, 4)\n",
       "sign: Convex.Positive()\n",
       "vexity: Convex.AffineVexity()\n"
      ]
     },
     "execution_count": 10,
     "metadata": {},
     "output_type": "execute_result"
    }
   ],
   "source": [
    "b = beta.value\n",
    "P .* (alpha * ones(1,4)) \n"
   ]
  },
  {
   "cell_type": "code",
   "execution_count": 9,
   "metadata": {
    "collapsed": false
   },
   "outputs": [
    {
     "ename": "LoadError",
     "evalue": "LoadError: Cannot multiply two expressions of sizes (82,82) and (4,1)\nwhile loading In[9], in expression starting on line 2",
     "output_type": "error",
     "traceback": [
      "LoadError: Cannot multiply two expressions of sizes (82,82) and (4,1)\nwhile loading In[9], in expression starting on line 2",
      "",
      " in Convex.MultiplyAtom(::Convex.DotMultiplyAtom, ::Convex.Constant) at /Users/esposito/.julia/v0.5/Convex/src/atoms/affine/multiply_divide.jl:29",
      " in *(::Convex.DotMultiplyAtom, ::Array{Float64,1}) at /Users/esposito/.julia/v0.5/Convex/src/atoms/affine/multiply_divide.jl:105"
     ]
    }
   ],
   "source": [
    "b = beta.value\n",
    "prediction_alpha =  X * ((P .* (alpha * ones(1,82)) * b))\n",
    "problem_alpha = minimize( norm(prediction_alpha - y) )\n"
   ]
  },
  {
   "cell_type": "code",
   "execution_count": 26,
   "metadata": {
    "collapsed": false
   },
   "outputs": [
    {
     "data": {
      "text/plain": [
       "(4,)"
      ]
     },
     "execution_count": 26,
     "metadata": {},
     "output_type": "execute_result"
    }
   ],
   "source": [
    "size(b)"
   ]
  },
  {
   "cell_type": "code",
   "execution_count": 16,
   "metadata": {
    "collapsed": false
   },
   "outputs": [
    {
     "data": {
      "text/plain": [
       "(166,82)"
      ]
     },
     "execution_count": 16,
     "metadata": {},
     "output_type": "execute_result"
    }
   ],
   "source": [
    "size(X)"
   ]
  },
  {
   "cell_type": "code",
   "execution_count": 17,
   "metadata": {
    "collapsed": false
   },
   "outputs": [
    {
     "data": {
      "text/plain": [
       "(82,4)"
      ]
     },
     "execution_count": 17,
     "metadata": {},
     "output_type": "execute_result"
    }
   ],
   "source": [
    "size(blocks)"
   ]
  },
  {
   "cell_type": "code",
   "execution_count": 18,
   "metadata": {
    "collapsed": false
   },
   "outputs": [
    {
     "data": {
      "text/plain": [
       "82"
      ]
     },
     "execution_count": 18,
     "metadata": {},
     "output_type": "execute_result"
    }
   ],
   "source": [
    "size(X,2)"
   ]
  },
  {
   "cell_type": "code",
   "execution_count": null,
   "metadata": {
    "collapsed": true
   },
   "outputs": [],
   "source": []
  }
 ],
 "metadata": {
  "kernelspec": {
   "display_name": "Julia 0.5.0",
   "language": "julia",
   "name": "julia-0.5"
  },
  "language_info": {
   "file_extension": ".jl",
   "mimetype": "application/julia",
   "name": "julia",
   "version": "0.5.0"
  }
 },
 "nbformat": 4,
 "nbformat_minor": 0
}
