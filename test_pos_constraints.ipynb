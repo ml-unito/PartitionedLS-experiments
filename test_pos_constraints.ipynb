{
 "cells": [
  {
   "cell_type": "code",
   "execution_count": 7,
   "metadata": {
    "collapsed": false
   },
   "outputs": [],
   "source": [
    "using Convex"
   ]
  },
  {
   "cell_type": "code",
   "execution_count": 8,
   "metadata": {
    "collapsed": false
   },
   "outputs": [
    {
     "data": {
      "text/plain": [
       "Variable of\n",
       "size: (10, 1)\n",
       "sign: Convex.NoSign()\n",
       "vexity: Convex.AffineVexity()"
      ]
     },
     "execution_count": 8,
     "metadata": {},
     "output_type": "execute_result"
    }
   ],
   "source": [
    "x = Variable(10)"
   ]
  },
  {
   "cell_type": "code",
   "execution_count": 12,
   "metadata": {
    "collapsed": false
   },
   "outputs": [
    {
     "data": {
      "text/plain": [
       "20×10 Array{Float64,2}:\n",
       " 0.690476   0.424439   0.856174  …  0.703056    0.545554   0.52597  \n",
       " 0.201505   0.0430941  0.193181     0.200101    0.91639    0.809886 \n",
       " 0.910981   0.0256114  0.930142     0.966956    0.919862   0.0966087\n",
       " 0.194538   0.7768     0.418278     0.256727    0.430189   0.77469  \n",
       " 0.308517   0.405905   0.914545     0.606597    0.372561   0.680836 \n",
       " 0.440622   0.370481   0.957894  …  0.881746    0.636843   0.532815 \n",
       " 0.552251   0.54403    0.582999     0.26376     0.0919001  0.291106 \n",
       " 0.406289   0.499759   0.167831     0.107717    0.974324   0.261825 \n",
       " 0.21697    0.878621   0.550161     0.475627    0.398015   0.131455 \n",
       " 0.895631   0.308138   0.529183     0.00922638  0.151443   0.801076 \n",
       " 0.805468   0.264071   0.369986  …  0.570706    0.82203    0.165795 \n",
       " 0.638009   0.538389   0.375233     0.475709    0.479505   0.32815  \n",
       " 0.0880039  0.877054   0.5092       0.739813    0.599966   0.992299 \n",
       " 0.400678   0.291035   0.948024     0.772194    0.292612   0.60511  \n",
       " 0.390186   0.071852   0.170672     0.097642    0.793314   0.932796 \n",
       " 0.10489    0.776042   0.897563  …  0.523289    0.619606   0.266114 \n",
       " 0.654298   0.116481   0.610531     0.499117    0.956169   0.959987 \n",
       " 0.30184    0.896255   0.815335     0.902625    0.722281   0.0169447\n",
       " 0.90398    0.476867   0.649576     0.823142    0.747376   0.783475 \n",
       " 0.785628   0.271151   0.450195     0.425895    0.456866   0.282597 "
      ]
     },
     "execution_count": 12,
     "metadata": {},
     "output_type": "execute_result"
    }
   ],
   "source": [
    "M = rand(20, 10)"
   ]
  },
  {
   "cell_type": "code",
   "execution_count": 15,
   "metadata": {
    "collapsed": false
   },
   "outputs": [
    {
     "data": {
      "text/plain": [
       "10-element Array{Float64,1}:\n",
       "  0.142603 \n",
       " -0.229147 \n",
       " -0.21461  \n",
       "  0.294715 \n",
       " -0.0768576\n",
       "  0.414894 \n",
       " -0.230699 \n",
       "  0.413117 \n",
       "  0.499736 \n",
       " -0.34383  "
      ]
     },
     "execution_count": 15,
     "metadata": {},
     "output_type": "execute_result"
    }
   ],
   "source": [
    "target = rand(10) - 0.5"
   ]
  },
  {
   "cell_type": "code",
   "execution_count": 16,
   "metadata": {
    "collapsed": false
   },
   "outputs": [
    {
     "data": {
      "text/plain": [
       "20-element Array{Float64,1}:\n",
       "  0.437951   \n",
       "  0.27914    \n",
       "  1.21117    \n",
       "  0.239899   \n",
       "  0.117453   \n",
       "  0.527314   \n",
       " -0.132863   \n",
       "  0.441848   \n",
       "  0.164088   \n",
       " -0.000400604\n",
       "  0.952844   \n",
       "  0.649717   \n",
       "  0.331499   \n",
       "  0.0823279  \n",
       "  0.754665   \n",
       "  0.26934    \n",
       "  0.458601   \n",
       "  0.353441   \n",
       "  0.322204   \n",
       "  0.46327    "
      ]
     },
     "execution_count": 16,
     "metadata": {},
     "output_type": "execute_result"
    }
   ],
   "source": [
    "y = M * target"
   ]
  },
  {
   "cell_type": "code",
   "execution_count": 17,
   "metadata": {
    "collapsed": false
   },
   "outputs": [
    {
     "ename": "LoadError",
     "evalue": "LoadError: MethodError: objects of type Module are not callable\nwhile loading In[17], in expression starting on line 1",
     "output_type": "error",
     "traceback": [
      "LoadError: MethodError: objects of type Module are not callable\nwhile loading In[17], in expression starting on line 1",
      ""
     ]
    }
   ],
   "source": [
    "problem = minimize(norm(M*x - y), [x>=0])"
   ]
  },
  {
   "cell_type": "code",
   "execution_count": null,
   "metadata": {
    "collapsed": true
   },
   "outputs": [],
   "source": []
  }
 ],
 "metadata": {
  "anaconda-cloud": {},
  "kernelspec": {
   "display_name": "Julia 0.5.0",
   "language": "julia",
   "name": "julia-0.5"
  },
  "language_info": {
   "file_extension": ".jl",
   "mimetype": "application/julia",
   "name": "julia",
   "version": "0.5.0"
  }
 },
 "nbformat": 4,
 "nbformat_minor": 0
}
